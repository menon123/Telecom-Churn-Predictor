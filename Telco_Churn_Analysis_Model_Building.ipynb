{
 "cells": [
  {
   "cell_type": "markdown",
   "metadata": {},
   "source": [
    "## Importing necessary libraries"
   ]
  },
  {
   "cell_type": "code",
   "execution_count": 42,
   "metadata": {},
   "outputs": [],
   "source": [
    "import pandas as pd\n",
    "import numpy as np\n",
    "\n",
    "# preprocessing tools\n",
    "from sklearn.preprocessing import StandardScaler\n",
    "from sklearn.preprocessing import LabelEncoder\n",
    "from sklearn.preprocessing import OneHotEncoder\n",
    "\n",
    "# model building\n",
    "from sklearn.model_selection import train_test_split\n",
    "from sklearn.linear_model import LogisticRegression\n",
    "from sklearn.linear_model import RidgeClassifier\n",
    "from sklearn.tree import DecisionTreeClassifier\n",
    "from sklearn.ensemble import RandomForestClassifier\n",
    "from sklearn.neighbors import KNeighborsClassifier\n",
    "from sklearn.svm import SVC\n",
    "from sklearn.neural_network import MLPClassifier\n",
    "from sklearn.ensemble import GradientBoostingClassifier\n",
    "from sklearn.ensemble import AdaBoostClassifier\n",
    "from catboost import CatBoostClassifier\n",
    "from xgboost import XGBClassifier\n",
    "from lightgbm import LGBMClassifier\n",
    "from imblearn.over_sampling import SMOTE\n",
    "from sklearn.model_selection import GridSearchCV\n",
    "from sklearn.decomposition import PCA\n",
    "\n",
    "# metrics\n",
    "from sklearn.metrics import confusion_matrix\n",
    "from sklearn.metrics import classification_report\n",
    "from sklearn.metrics import accuracy_score\n",
    "from sklearn.metrics import precision_score\n",
    "from sklearn.metrics import recall_score\n",
    "from sklearn.metrics import f1_score\n",
    "from sklearn.metrics import roc_auc_score\n",
    "\n",
    "# warnings\n",
    "import warnings\n",
    "warnings.filterwarnings('ignore')"
   ]
  },
  {
   "cell_type": "code",
   "execution_count": 43,
   "metadata": {},
   "outputs": [
    {
     "data": {
      "text/html": [
       "<div>\n",
       "<style scoped>\n",
       "    .dataframe tbody tr th:only-of-type {\n",
       "        vertical-align: middle;\n",
       "    }\n",
       "\n",
       "    .dataframe tbody tr th {\n",
       "        vertical-align: top;\n",
       "    }\n",
       "\n",
       "    .dataframe thead th {\n",
       "        text-align: right;\n",
       "    }\n",
       "</style>\n",
       "<table border=\"1\" class=\"dataframe\">\n",
       "  <thead>\n",
       "    <tr style=\"text-align: right;\">\n",
       "      <th></th>\n",
       "      <th>gender</th>\n",
       "      <th>SeniorCitizen</th>\n",
       "      <th>Partner</th>\n",
       "      <th>Dependents</th>\n",
       "      <th>PhoneService</th>\n",
       "      <th>MultipleLines</th>\n",
       "      <th>InternetService</th>\n",
       "      <th>OnlineSecurity</th>\n",
       "      <th>OnlineBackup</th>\n",
       "      <th>DeviceProtection</th>\n",
       "      <th>TechSupport</th>\n",
       "      <th>StreamingTV</th>\n",
       "      <th>StreamingMovies</th>\n",
       "      <th>Contract</th>\n",
       "      <th>PaperlessBilling</th>\n",
       "      <th>PaymentMethod</th>\n",
       "      <th>MonthlyCharges</th>\n",
       "      <th>TotalCharges</th>\n",
       "      <th>Churn</th>\n",
       "      <th>tenure_group</th>\n",
       "    </tr>\n",
       "  </thead>\n",
       "  <tbody>\n",
       "    <tr>\n",
       "      <th>0</th>\n",
       "      <td>Female</td>\n",
       "      <td>No</td>\n",
       "      <td>Yes</td>\n",
       "      <td>No</td>\n",
       "      <td>No</td>\n",
       "      <td>No</td>\n",
       "      <td>DSL</td>\n",
       "      <td>No</td>\n",
       "      <td>Yes</td>\n",
       "      <td>No</td>\n",
       "      <td>No</td>\n",
       "      <td>No</td>\n",
       "      <td>No</td>\n",
       "      <td>Month-to-month</td>\n",
       "      <td>Yes</td>\n",
       "      <td>Electronic check</td>\n",
       "      <td>29.85</td>\n",
       "      <td>29.85</td>\n",
       "      <td>No</td>\n",
       "      <td>1 - 12</td>\n",
       "    </tr>\n",
       "    <tr>\n",
       "      <th>1</th>\n",
       "      <td>Male</td>\n",
       "      <td>No</td>\n",
       "      <td>No</td>\n",
       "      <td>No</td>\n",
       "      <td>Yes</td>\n",
       "      <td>No</td>\n",
       "      <td>DSL</td>\n",
       "      <td>Yes</td>\n",
       "      <td>No</td>\n",
       "      <td>Yes</td>\n",
       "      <td>No</td>\n",
       "      <td>No</td>\n",
       "      <td>No</td>\n",
       "      <td>One year</td>\n",
       "      <td>No</td>\n",
       "      <td>Mailed check</td>\n",
       "      <td>56.95</td>\n",
       "      <td>1889.50</td>\n",
       "      <td>No</td>\n",
       "      <td>25 - 36</td>\n",
       "    </tr>\n",
       "    <tr>\n",
       "      <th>2</th>\n",
       "      <td>Male</td>\n",
       "      <td>No</td>\n",
       "      <td>No</td>\n",
       "      <td>No</td>\n",
       "      <td>Yes</td>\n",
       "      <td>No</td>\n",
       "      <td>DSL</td>\n",
       "      <td>Yes</td>\n",
       "      <td>Yes</td>\n",
       "      <td>No</td>\n",
       "      <td>No</td>\n",
       "      <td>No</td>\n",
       "      <td>No</td>\n",
       "      <td>Month-to-month</td>\n",
       "      <td>Yes</td>\n",
       "      <td>Mailed check</td>\n",
       "      <td>53.85</td>\n",
       "      <td>108.15</td>\n",
       "      <td>Yes</td>\n",
       "      <td>1 - 12</td>\n",
       "    </tr>\n",
       "    <tr>\n",
       "      <th>3</th>\n",
       "      <td>Male</td>\n",
       "      <td>No</td>\n",
       "      <td>No</td>\n",
       "      <td>No</td>\n",
       "      <td>No</td>\n",
       "      <td>No</td>\n",
       "      <td>DSL</td>\n",
       "      <td>Yes</td>\n",
       "      <td>No</td>\n",
       "      <td>Yes</td>\n",
       "      <td>Yes</td>\n",
       "      <td>No</td>\n",
       "      <td>No</td>\n",
       "      <td>One year</td>\n",
       "      <td>No</td>\n",
       "      <td>Bank transfer (automatic)</td>\n",
       "      <td>42.30</td>\n",
       "      <td>1840.75</td>\n",
       "      <td>No</td>\n",
       "      <td>37 - 48</td>\n",
       "    </tr>\n",
       "    <tr>\n",
       "      <th>4</th>\n",
       "      <td>Female</td>\n",
       "      <td>No</td>\n",
       "      <td>No</td>\n",
       "      <td>No</td>\n",
       "      <td>Yes</td>\n",
       "      <td>No</td>\n",
       "      <td>Fiber optic</td>\n",
       "      <td>No</td>\n",
       "      <td>No</td>\n",
       "      <td>No</td>\n",
       "      <td>No</td>\n",
       "      <td>No</td>\n",
       "      <td>No</td>\n",
       "      <td>Month-to-month</td>\n",
       "      <td>Yes</td>\n",
       "      <td>Electronic check</td>\n",
       "      <td>70.70</td>\n",
       "      <td>151.65</td>\n",
       "      <td>Yes</td>\n",
       "      <td>1 - 12</td>\n",
       "    </tr>\n",
       "  </tbody>\n",
       "</table>\n",
       "</div>"
      ],
      "text/plain": [
       "   gender SeniorCitizen Partner Dependents PhoneService MultipleLines  \\\n",
       "0  Female            No     Yes         No           No            No   \n",
       "1    Male            No      No         No          Yes            No   \n",
       "2    Male            No      No         No          Yes            No   \n",
       "3    Male            No      No         No           No            No   \n",
       "4  Female            No      No         No          Yes            No   \n",
       "\n",
       "  InternetService OnlineSecurity OnlineBackup DeviceProtection TechSupport  \\\n",
       "0             DSL             No          Yes               No          No   \n",
       "1             DSL            Yes           No              Yes          No   \n",
       "2             DSL            Yes          Yes               No          No   \n",
       "3             DSL            Yes           No              Yes         Yes   \n",
       "4     Fiber optic             No           No               No          No   \n",
       "\n",
       "  StreamingTV StreamingMovies        Contract PaperlessBilling  \\\n",
       "0          No              No  Month-to-month              Yes   \n",
       "1          No              No        One year               No   \n",
       "2          No              No  Month-to-month              Yes   \n",
       "3          No              No        One year               No   \n",
       "4          No              No  Month-to-month              Yes   \n",
       "\n",
       "               PaymentMethod  MonthlyCharges  TotalCharges Churn tenure_group  \n",
       "0           Electronic check           29.85         29.85    No       1 - 12  \n",
       "1               Mailed check           56.95       1889.50    No      25 - 36  \n",
       "2               Mailed check           53.85        108.15   Yes       1 - 12  \n",
       "3  Bank transfer (automatic)           42.30       1840.75    No      37 - 48  \n",
       "4           Electronic check           70.70        151.65   Yes       1 - 12  "
      ]
     },
     "execution_count": 43,
     "metadata": {},
     "output_type": "execute_result"
    }
   ],
   "source": [
    "df = pd.read_csv('/tel_churn.csv')\n",
    "df.head()"
   ]
  },
  {
   "cell_type": "markdown",
   "metadata": {},
   "source": [
    "## Data Pre-processing"
   ]
  },
  {
   "cell_type": "code",
   "execution_count": 44,
   "metadata": {},
   "outputs": [],
   "source": [
    "def preprocess_inputs(df):\n",
    "    df = df.copy()\n",
    "\n",
    "    # Splitting the dataset into X and y\n",
    "\n",
    "    X = df.drop('Churn', axis=1)\n",
    "    y = df['Churn']\n",
    "\n",
    "    # train test split\n",
    "    \n",
    "    x_train, x_test, y_train, y_test = train_test_split(X, y, test_size=0.2, stratify=y, random_state=100)\n",
    "\n",
    "    # categorical columns\n",
    "    cat_cols = [col for col in df.columns if df[col].dtype == 'object' and col != 'Churn']\n",
    "\n",
    "    # numerical columns\n",
    "    num_cols = [col for col in df.columns if df[col].dtype != 'object']\n",
    "\n",
    "    # Dividing the columns into 3 categories;\n",
    "    # standard scaler for numerical columns\n",
    "\n",
    "    ss = StandardScaler()\n",
    "    x_train[num_cols] = ss.fit_transform(x_train[num_cols])\n",
    "    x_test[num_cols] = ss.transform(x_test[num_cols])\n",
    "\n",
    "    with open(\"StandardScaler\", \"wb\") as f: \n",
    "        pickle.dump(ss, f)\n",
    "\n",
    "    # label encoder for target variable\n",
    "\n",
    "    le = LabelEncoder()\n",
    "    y_train_encode = le.fit_transform(y_train)\n",
    "    y_test_encode = le.transform(y_test)\n",
    "\n",
    "    # one-hot encoding for categorical features\n",
    "\n",
    "    ohe = OneHotEncoder(sparse=False, drop='if_binary')\n",
    "    x_train_ohe = ohe.fit_transform(x_train[cat_cols])\n",
    "    x_test_ohe = ohe.transform(x_test[cat_cols])\n",
    "\n",
    "    with open(\"One-Hot-Encoder\", \"wb\") as f: \n",
    "        pickle.dump(ohe, f)\n",
    "\n",
    "    # assigning right column names to cat cols after one-hot encoding\n",
    "    col_ohe = ohe.get_feature_names(cat_cols)\n",
    "\n",
    "    # create df for one hot encoded features\n",
    "    x_train_ohe_df = pd.DataFrame(x_train_ohe, columns = col_ohe, index = x_train.index)\n",
    "    x_test_ohe_df = pd.DataFrame(x_test_ohe, columns = col_ohe, index = x_test.index)\n",
    "\n",
    "    # combine the numerical and encoded features\n",
    "    x_train_encode = pd.concat([x_train.drop(columns=cat_cols), x_train_ohe_df], axis=1)\n",
    "    x_test_encode = pd.concat([x_test.drop(columns=cat_cols), x_test_ohe_df], axis=1)\n",
    "\n",
    "    return x_train_encode, x_test_encode, y_train_encode, y_test_encode"
   ]
  },
  {
   "cell_type": "code",
   "execution_count": 45,
   "metadata": {},
   "outputs": [],
   "source": [
    "x_train_encode, x_test_encode, y_train_encode, y_test_encode = preprocess_inputs(df)"
   ]
  },
  {
   "cell_type": "markdown",
   "metadata": {},
   "source": [
    "## Model Building"
   ]
  },
  {
   "cell_type": "code",
   "execution_count": 46,
   "metadata": {},
   "outputs": [],
   "source": [
    "# decision tree classifier\n",
    "model_dt = DecisionTreeClassifier(criterion='gini', random_state=100, max_depth=6, min_samples_leaf=8)"
   ]
  },
  {
   "cell_type": "code",
   "execution_count": 47,
   "metadata": {},
   "outputs": [
    {
     "data": {
      "text/plain": [
       "DecisionTreeClassifier(max_depth=6, min_samples_leaf=8, random_state=100)"
      ]
     },
     "execution_count": 47,
     "metadata": {},
     "output_type": "execute_result"
    }
   ],
   "source": [
    "model_dt.fit(x_train_encode, y_train_encode)"
   ]
  },
  {
   "cell_type": "code",
   "execution_count": 48,
   "metadata": {},
   "outputs": [],
   "source": [
    "y_pred = model_dt.predict(x_test_encode)"
   ]
  },
  {
   "cell_type": "code",
   "execution_count": 49,
   "metadata": {},
   "outputs": [
    {
     "name": "stdout",
     "output_type": "stream",
     "text": [
      "[[901 132]\n",
      " [194 180]]\n"
     ]
    }
   ],
   "source": [
    "print(confusion_matrix(y_test_encode, y_pred))"
   ]
  },
  {
   "cell_type": "code",
   "execution_count": 50,
   "metadata": {},
   "outputs": [
    {
     "name": "stdout",
     "output_type": "stream",
     "text": [
      "              precision    recall  f1-score   support\n",
      "\n",
      "           0       0.82      0.87      0.85      1033\n",
      "           1       0.58      0.48      0.52       374\n",
      "\n",
      "    accuracy                           0.77      1407\n",
      "   macro avg       0.70      0.68      0.69      1407\n",
      "weighted avg       0.76      0.77      0.76      1407\n",
      "\n"
     ]
    }
   ],
   "source": [
    "print(classification_report(y_test_encode, y_pred))"
   ]
  },
  {
   "cell_type": "code",
   "execution_count": 51,
   "metadata": {},
   "outputs": [
    {
     "data": {
      "text/plain": [
       "(5625,)"
      ]
     },
     "execution_count": 51,
     "metadata": {},
     "output_type": "execute_result"
    }
   ],
   "source": [
    "y_train_encode.shape"
   ]
  },
  {
   "cell_type": "code",
   "execution_count": 52,
   "metadata": {},
   "outputs": [
    {
     "name": "stdout",
     "output_type": "stream",
     "text": [
      "[4130 1495]\n"
     ]
    }
   ],
   "source": [
    "print(np.bincount(y_train_encode))"
   ]
  },
  {
   "cell_type": "markdown",
   "metadata": {},
   "source": [
    "- The accuracy is quite low also keeping in mind that the dataset is quite imbalanced. The accuracy should not be considered as the metrics as the accuracy is cursed in an imbalanced data.\n",
    "- Hence, it is essential to check recall, precision & f1 score for the minority class, and it's quite evident these scores are low as well for the minority class i.e. Churned Customers.\n",
    "- Hence, we shall to scale the classes of the dataset using SMOTE (Upsampling).\n",
    "- But first let's try other as well classifiers before over-sampling."
   ]
  },
  {
   "cell_type": "code",
   "execution_count": 53,
   "metadata": {},
   "outputs": [],
   "source": [
    "def get_score(y_pred_list, y_test, plot=True, axis=0, cmap='Blues'):\n",
    "    model_name = []\n",
    "    accuracy = []\n",
    "    precision = []\n",
    "    recall = []\n",
    "    f1 = []\n",
    "    roc_auc = []\n",
    "\n",
    "    for name, y_pred in y_pred_list.items():\n",
    "        model_name.append(name)\n",
    "        accuracy.append(accuracy_score(y_test, y_pred))\n",
    "        precision.append(precision_score(y_test, y_pred))\n",
    "        recall.append(recall_score(y_test, y_pred))\n",
    "        f1.append(f1_score(y_test, y_pred))\n",
    "        roc_auc.append(roc_auc_score(y_test, y_pred))\n",
    "\n",
    "        score_list = {\n",
    "          'model':model_name,\n",
    "          'accuracy':accuracy,\n",
    "          'precision':precision,\n",
    "          'recall':recall,\n",
    "          'f1_score':f1,\n",
    "          'roc_auc':roc_auc\n",
    "        }\n",
    "    \n",
    "    score_df = pd.DataFrame(score_list).set_index('model')\n",
    "\n",
    "    if plot:\n",
    "        display(score_df.style.background_gradient(axis=axis, cmap=cmap))\n",
    "\n",
    "    return score_df"
   ]
  },
  {
   "cell_type": "code",
   "execution_count": 54,
   "metadata": {},
   "outputs": [],
   "source": [
    "model_list ={\n",
    "    #12\n",
    "    'Logistic Regression' :LogisticRegression(max_iter=1000, random_state=100),\n",
    "    'Ridge Classifier' :RidgeClassifier(random_state=100),\n",
    "    'Decision Tree' :DecisionTreeClassifier(random_state=100),\n",
    "    'Random Forest':RandomForestClassifier(random_state=100),\n",
    "    'KNN' :KNeighborsClassifier(),\n",
    "    'SVC' :SVC(random_state=100),\n",
    "    'Neural Network' : MLPClassifier(max_iter=1000, random_state=100),\n",
    "    'Gradient Boosting Classifier':GradientBoostingClassifier(random_state=100),\n",
    "    'AdaBoost Classifier':AdaBoostClassifier(random_state=100),\n",
    "    'CatBoost Classifier':CatBoostClassifier(random_state=100, verbose=False),\n",
    "    'XGBoost':XGBClassifier(random_state=100, use_label_encoder=False, eval_metric='logloss'),\n",
    "    'LightGBM':LGBMClassifier(random_state=100)\n",
    "}"
   ]
  },
  {
   "cell_type": "markdown",
   "metadata": {},
   "source": []
  },
  {
   "cell_type": "code",
   "execution_count": 55,
   "metadata": {},
   "outputs": [
    {
     "data": {
      "text/html": [
       "<style type=\"text/css\">\n",
       "#T_85994_row0_col0 {\n",
       "  background-color: #08468b;\n",
       "  color: #f1f1f1;\n",
       "}\n",
       "#T_85994_row0_col1 {\n",
       "  background-color: #0e59a2;\n",
       "  color: #f1f1f1;\n",
       "}\n",
       "#T_85994_row0_col2 {\n",
       "  background-color: #a4cce3;\n",
       "  color: #000000;\n",
       "}\n",
       "#T_85994_row0_col3 {\n",
       "  background-color: #3585bf;\n",
       "  color: #f1f1f1;\n",
       "}\n",
       "#T_85994_row0_col4 {\n",
       "  background-color: #3989c1;\n",
       "  color: #f1f1f1;\n",
       "}\n",
       "#T_85994_row1_col0, #T_85994_row7_col0 {\n",
       "  background-color: #084082;\n",
       "  color: #f1f1f1;\n",
       "}\n",
       "#T_85994_row1_col1 {\n",
       "  background-color: #083b7c;\n",
       "  color: #f1f1f1;\n",
       "}\n",
       "#T_85994_row1_col2 {\n",
       "  background-color: #e4eff9;\n",
       "  color: #000000;\n",
       "}\n",
       "#T_85994_row1_col3 {\n",
       "  background-color: #57a0ce;\n",
       "  color: #f1f1f1;\n",
       "}\n",
       "#T_85994_row1_col4 {\n",
       "  background-color: #5da5d1;\n",
       "  color: #f1f1f1;\n",
       "}\n",
       "#T_85994_row2_col0, #T_85994_row2_col1, #T_85994_row3_col2, #T_85994_row6_col2, #T_85994_row6_col3, #T_85994_row6_col4 {\n",
       "  background-color: #f7fbff;\n",
       "  color: #000000;\n",
       "}\n",
       "#T_85994_row2_col2 {\n",
       "  background-color: #89bedc;\n",
       "  color: #000000;\n",
       "}\n",
       "#T_85994_row2_col3 {\n",
       "  background-color: #cfe1f2;\n",
       "  color: #000000;\n",
       "}\n",
       "#T_85994_row2_col4 {\n",
       "  background-color: #d1e2f3;\n",
       "  color: #000000;\n",
       "}\n",
       "#T_85994_row3_col0, #T_85994_row9_col1 {\n",
       "  background-color: #2f7fbc;\n",
       "  color: #f1f1f1;\n",
       "}\n",
       "#T_85994_row3_col1 {\n",
       "  background-color: #3383be;\n",
       "  color: #f1f1f1;\n",
       "}\n",
       "#T_85994_row3_col3, #T_85994_row3_col4, #T_85994_row4_col1 {\n",
       "  background-color: #a1cbe2;\n",
       "  color: #000000;\n",
       "}\n",
       "#T_85994_row4_col0 {\n",
       "  background-color: #81badb;\n",
       "  color: #000000;\n",
       "}\n",
       "#T_85994_row4_col2 {\n",
       "  background-color: #abd0e6;\n",
       "  color: #000000;\n",
       "}\n",
       "#T_85994_row4_col3 {\n",
       "  background-color: #97c6df;\n",
       "  color: #000000;\n",
       "}\n",
       "#T_85994_row4_col4 {\n",
       "  background-color: #99c7e0;\n",
       "  color: #000000;\n",
       "}\n",
       "#T_85994_row5_col0, #T_85994_row5_col1, #T_85994_row8_col2, #T_85994_row8_col3, #T_85994_row8_col4 {\n",
       "  background-color: #08306b;\n",
       "  color: #f1f1f1;\n",
       "}\n",
       "#T_85994_row5_col2 {\n",
       "  background-color: #d2e3f3;\n",
       "  color: #000000;\n",
       "}\n",
       "#T_85994_row5_col3 {\n",
       "  background-color: #3c8cc3;\n",
       "  color: #f1f1f1;\n",
       "}\n",
       "#T_85994_row5_col4 {\n",
       "  background-color: #4292c6;\n",
       "  color: #f1f1f1;\n",
       "}\n",
       "#T_85994_row6_col0 {\n",
       "  background-color: #f2f8fd;\n",
       "  color: #000000;\n",
       "}\n",
       "#T_85994_row6_col1 {\n",
       "  background-color: #f2f7fd;\n",
       "  color: #000000;\n",
       "}\n",
       "#T_85994_row7_col1 {\n",
       "  background-color: #1a68ae;\n",
       "  color: #f1f1f1;\n",
       "}\n",
       "#T_85994_row7_col2 {\n",
       "  background-color: #3181bd;\n",
       "  color: #f1f1f1;\n",
       "}\n",
       "#T_85994_row7_col3 {\n",
       "  background-color: #0e58a2;\n",
       "  color: #f1f1f1;\n",
       "}\n",
       "#T_85994_row7_col4 {\n",
       "  background-color: #115ca5;\n",
       "  color: #f1f1f1;\n",
       "}\n",
       "#T_85994_row8_col0 {\n",
       "  background-color: #083674;\n",
       "  color: #f1f1f1;\n",
       "}\n",
       "#T_85994_row8_col1 {\n",
       "  background-color: #2070b4;\n",
       "  color: #f1f1f1;\n",
       "}\n",
       "#T_85994_row9_col0 {\n",
       "  background-color: #1562a9;\n",
       "  color: #f1f1f1;\n",
       "}\n",
       "#T_85994_row9_col2 {\n",
       "  background-color: #7fb9da;\n",
       "  color: #000000;\n",
       "}\n",
       "#T_85994_row9_col3 {\n",
       "  background-color: #3a8ac2;\n",
       "  color: #f1f1f1;\n",
       "}\n",
       "#T_85994_row9_col4 {\n",
       "  background-color: #3d8dc4;\n",
       "  color: #f1f1f1;\n",
       "}\n",
       "#T_85994_row10_col0 {\n",
       "  background-color: #2474b7;\n",
       "  color: #f1f1f1;\n",
       "}\n",
       "#T_85994_row10_col1 {\n",
       "  background-color: #4594c7;\n",
       "  color: #f1f1f1;\n",
       "}\n",
       "#T_85994_row10_col2 {\n",
       "  background-color: #6aaed6;\n",
       "  color: #f1f1f1;\n",
       "}\n",
       "#T_85994_row10_col3 {\n",
       "  background-color: #3f8fc5;\n",
       "  color: #f1f1f1;\n",
       "}\n",
       "#T_85994_row10_col4 {\n",
       "  background-color: #4191c6;\n",
       "  color: #f1f1f1;\n",
       "}\n",
       "#T_85994_row11_col0 {\n",
       "  background-color: #084387;\n",
       "  color: #f1f1f1;\n",
       "}\n",
       "#T_85994_row11_col1, #T_85994_row11_col3 {\n",
       "  background-color: #1865ac;\n",
       "  color: #f1f1f1;\n",
       "}\n",
       "#T_85994_row11_col2 {\n",
       "  background-color: #4b98ca;\n",
       "  color: #f1f1f1;\n",
       "}\n",
       "#T_85994_row11_col4 {\n",
       "  background-color: #1b69af;\n",
       "  color: #f1f1f1;\n",
       "}\n",
       "</style>\n",
       "<table id=\"T_85994_\">\n",
       "  <thead>\n",
       "    <tr>\n",
       "      <th class=\"blank level0\" >&nbsp;</th>\n",
       "      <th class=\"col_heading level0 col0\" >accuracy</th>\n",
       "      <th class=\"col_heading level0 col1\" >precision</th>\n",
       "      <th class=\"col_heading level0 col2\" >recall</th>\n",
       "      <th class=\"col_heading level0 col3\" >f1_score</th>\n",
       "      <th class=\"col_heading level0 col4\" >roc_auc</th>\n",
       "    </tr>\n",
       "    <tr>\n",
       "      <th class=\"index_name level0\" >model</th>\n",
       "      <th class=\"blank col0\" >&nbsp;</th>\n",
       "      <th class=\"blank col1\" >&nbsp;</th>\n",
       "      <th class=\"blank col2\" >&nbsp;</th>\n",
       "      <th class=\"blank col3\" >&nbsp;</th>\n",
       "      <th class=\"blank col4\" >&nbsp;</th>\n",
       "    </tr>\n",
       "  </thead>\n",
       "  <tbody>\n",
       "    <tr>\n",
       "      <th id=\"T_85994_level0_row0\" class=\"row_heading level0 row0\" >Logistic Regression</th>\n",
       "      <td id=\"T_85994_row0_col0\" class=\"data row0 col0\" >0.796020</td>\n",
       "      <td id=\"T_85994_row0_col1\" class=\"data row0 col1\" >0.654804</td>\n",
       "      <td id=\"T_85994_row0_col2\" class=\"data row0 col2\" >0.491979</td>\n",
       "      <td id=\"T_85994_row0_col3\" class=\"data row0 col3\" >0.561832</td>\n",
       "      <td id=\"T_85994_row0_col4\" class=\"data row0 col4\" >0.699039</td>\n",
       "    </tr>\n",
       "    <tr>\n",
       "      <th id=\"T_85994_level0_row1\" class=\"row_heading level0 row1\" >Ridge Classifier</th>\n",
       "      <td id=\"T_85994_row1_col0\" class=\"data row1 col0\" >0.797441</td>\n",
       "      <td id=\"T_85994_row1_col1\" class=\"data row1 col1\" >0.673152</td>\n",
       "      <td id=\"T_85994_row1_col2\" class=\"data row1 col2\" >0.462567</td>\n",
       "      <td id=\"T_85994_row1_col3\" class=\"data row1 col3\" >0.548336</td>\n",
       "      <td id=\"T_85994_row1_col4\" class=\"data row1 col4\" >0.690625</td>\n",
       "    </tr>\n",
       "    <tr>\n",
       "      <th id=\"T_85994_level0_row2\" class=\"row_heading level0 row2\" >Decision Tree</th>\n",
       "      <td id=\"T_85994_row2_col0\" class=\"data row2 col0\" >0.742004</td>\n",
       "      <td id=\"T_85994_row2_col1\" class=\"data row2 col1\" >0.515152</td>\n",
       "      <td id=\"T_85994_row2_col2\" class=\"data row2 col2\" >0.500000</td>\n",
       "      <td id=\"T_85994_row2_col3\" class=\"data row2 col3\" >0.507463</td>\n",
       "      <td id=\"T_85994_row2_col4\" class=\"data row2 col4\" >0.664811</td>\n",
       "    </tr>\n",
       "    <tr>\n",
       "      <th id=\"T_85994_level0_row3\" class=\"row_heading level0 row3\" >Random Forest</th>\n",
       "      <td id=\"T_85994_row3_col0\" class=\"data row3 col0\" >0.783227</td>\n",
       "      <td id=\"T_85994_row3_col1\" class=\"data row3 col1\" >0.628253</td>\n",
       "      <td id=\"T_85994_row3_col2\" class=\"data row3 col2\" >0.451872</td>\n",
       "      <td id=\"T_85994_row3_col3\" class=\"data row3 col3\" >0.525661</td>\n",
       "      <td id=\"T_85994_row3_col4\" class=\"data row3 col4\" >0.677533</td>\n",
       "    </tr>\n",
       "    <tr>\n",
       "      <th id=\"T_85994_level0_row4\" class=\"row_heading level0 row4\" >KNN</th>\n",
       "      <td id=\"T_85994_row4_col0\" class=\"data row4 col0\" >0.768301</td>\n",
       "      <td id=\"T_85994_row4_col1\" class=\"data row4 col1\" >0.575472</td>\n",
       "      <td id=\"T_85994_row4_col2\" class=\"data row4 col2\" >0.489305</td>\n",
       "      <td id=\"T_85994_row4_col3\" class=\"data row4 col3\" >0.528902</td>\n",
       "      <td id=\"T_85994_row4_col4\" class=\"data row4 col4\" >0.679309</td>\n",
       "    </tr>\n",
       "    <tr>\n",
       "      <th id=\"T_85994_level0_row5\" class=\"row_heading level0 row5\" >SVC</th>\n",
       "      <td id=\"T_85994_row5_col0\" class=\"data row5 col0\" >0.800995</td>\n",
       "      <td id=\"T_85994_row5_col1\" class=\"data row5 col1\" >0.680769</td>\n",
       "      <td id=\"T_85994_row5_col2\" class=\"data row5 col2\" >0.473262</td>\n",
       "      <td id=\"T_85994_row5_col3\" class=\"data row5 col3\" >0.558360</td>\n",
       "      <td id=\"T_85994_row5_col4\" class=\"data row5 col4\" >0.696457</td>\n",
       "    </tr>\n",
       "    <tr>\n",
       "      <th id=\"T_85994_level0_row6\" class=\"row_heading level0 row6\" >Neural Network</th>\n",
       "      <td id=\"T_85994_row6_col0\" class=\"data row6 col0\" >0.743426</td>\n",
       "      <td id=\"T_85994_row6_col1\" class=\"data row6 col1\" >0.520000</td>\n",
       "      <td id=\"T_85994_row6_col2\" class=\"data row6 col2\" >0.451872</td>\n",
       "      <td id=\"T_85994_row6_col3\" class=\"data row6 col3\" >0.483548</td>\n",
       "      <td id=\"T_85994_row6_col4\" class=\"data row6 col4\" >0.650428</td>\n",
       "    </tr>\n",
       "    <tr>\n",
       "      <th id=\"T_85994_level0_row7\" class=\"row_heading level0 row7\" >Gradient Boosting Classifier</th>\n",
       "      <td id=\"T_85994_row7_col0\" class=\"data row7 col0\" >0.797441</td>\n",
       "      <td id=\"T_85994_row7_col1\" class=\"data row7 col1\" >0.644951</td>\n",
       "      <td id=\"T_85994_row7_col2\" class=\"data row7 col2\" >0.529412</td>\n",
       "      <td id=\"T_85994_row7_col3\" class=\"data row7 col3\" >0.581498</td>\n",
       "      <td id=\"T_85994_row7_col4\" class=\"data row7 col4\" >0.711947</td>\n",
       "    </tr>\n",
       "    <tr>\n",
       "      <th id=\"T_85994_level0_row8\" class=\"row_heading level0 row8\" >AdaBoost Classifier</th>\n",
       "      <td id=\"T_85994_row8_col0\" class=\"data row8 col0\" >0.799574</td>\n",
       "      <td id=\"T_85994_row8_col1\" class=\"data row8 col1\" >0.639394</td>\n",
       "      <td id=\"T_85994_row8_col2\" class=\"data row8 col2\" >0.564171</td>\n",
       "      <td id=\"T_85994_row8_col3\" class=\"data row8 col3\" >0.599432</td>\n",
       "      <td id=\"T_85994_row8_col4\" class=\"data row8 col4\" >0.724486</td>\n",
       "    </tr>\n",
       "    <tr>\n",
       "      <th id=\"T_85994_level0_row9\" class=\"row_heading level0 row9\" >CatBoost Classifier</th>\n",
       "      <td id=\"T_85994_row9_col0\" class=\"data row9 col0\" >0.789623</td>\n",
       "      <td id=\"T_85994_row9_col1\" class=\"data row9 col1\" >0.630872</td>\n",
       "      <td id=\"T_85994_row9_col2\" class=\"data row9 col2\" >0.502674</td>\n",
       "      <td id=\"T_85994_row9_col3\" class=\"data row9 col3\" >0.559524</td>\n",
       "      <td id=\"T_85994_row9_col4\" class=\"data row9 col4\" >0.698094</td>\n",
       "    </tr>\n",
       "    <tr>\n",
       "      <th id=\"T_85994_level0_row10\" class=\"row_heading level0 row10\" >XGBoost</th>\n",
       "      <td id=\"T_85994_row10_col0\" class=\"data row10 col0\" >0.785359</td>\n",
       "      <td id=\"T_85994_row10_col1\" class=\"data row10 col1\" >0.616883</td>\n",
       "      <td id=\"T_85994_row10_col2\" class=\"data row10 col2\" >0.508021</td>\n",
       "      <td id=\"T_85994_row10_col3\" class=\"data row10 col3\" >0.557185</td>\n",
       "      <td id=\"T_85994_row10_col4\" class=\"data row10 col4\" >0.696895</td>\n",
       "    </tr>\n",
       "    <tr>\n",
       "      <th id=\"T_85994_level0_row11\" class=\"row_heading level0 row11\" >LightGBM</th>\n",
       "      <td id=\"T_85994_row11_col0\" class=\"data row11 col0\" >0.796731</td>\n",
       "      <td id=\"T_85994_row11_col1\" class=\"data row11 col1\" >0.646667</td>\n",
       "      <td id=\"T_85994_row11_col2\" class=\"data row11 col2\" >0.518717</td>\n",
       "      <td id=\"T_85994_row11_col3\" class=\"data row11 col3\" >0.575668</td>\n",
       "      <td id=\"T_85994_row11_col4\" class=\"data row11 col4\" >0.708051</td>\n",
       "    </tr>\n",
       "  </tbody>\n",
       "</table>\n"
      ],
      "text/plain": [
       "<pandas.io.formats.style.Styler at 0x2c2831f3370>"
      ]
     },
     "metadata": {},
     "output_type": "display_data"
    }
   ],
   "source": [
    "y_pred_list = dict()\n",
    "\n",
    "for name, model in model_list.items():\n",
    "  model.fit(x_train_encode, y_train_encode)\n",
    "  y_pred_list[name] = model.predict(x_test_encode)\n",
    "\n",
    "score_smote = get_score(y_pred_list, y_test_encode)"
   ]
  },
  {
   "cell_type": "markdown",
   "metadata": {},
   "source": [
    "There is no drastic difference in the scores, now let's try over-sampling techniques to upscale the dataset."
   ]
  },
  {
   "cell_type": "markdown",
   "metadata": {},
   "source": [
    "## Over-Sampling"
   ]
  },
  {
   "cell_type": "code",
   "execution_count": 56,
   "metadata": {},
   "outputs": [
    {
     "name": "stdout",
     "output_type": "stream",
     "text": [
      "Before OverSampling - counts of label '0': 4130\n",
      "Before OverSampling - counts of label '1': 1495 \n",
      "\n",
      "After OverSampling with SMOTE - x_train: (8260, 31)\n",
      "After OverSampling with SMOTE - y_train: (8260,) \n",
      "\n",
      "After OverSampling with SMOTE - counts of label '0': 4130\n",
      "After OverSampling with SMOTE - counts of label '1': 4130\n"
     ]
    }
   ],
   "source": [
    "print(\"Before OverSampling - counts of label '0': {}\".format(sum(y_train_encode == 0)))\n",
    "print(\"Before OverSampling - counts of label '1': {} \\n\".format(sum(y_train_encode == 1)))\n",
    "\n",
    "sm = SMOTE(random_state=100)\n",
    "x_train_smote, y_train_smote = sm.fit_resample(x_train_encode, y_train_encode.ravel())\n",
    "\n",
    "print('After OverSampling with SMOTE - x_train: {}'.format(x_train_smote.shape))\n",
    "print('After OverSampling with SMOTE - y_train: {} \\n'.format(y_train_smote.shape))\n",
    "\n",
    "print(\"After OverSampling with SMOTE - counts of label '0': {}\".format(sum(y_train_smote == 0)))\n",
    "print(\"After OverSampling with SMOTE - counts of label '1': {}\".format(sum(y_train_smote == 1)))"
   ]
  },
  {
   "cell_type": "markdown",
   "metadata": {},
   "source": [
    "Using over-sampling only on training set as there might be leakage of information from the test set to training set while training the model. So it is a good measure to not use any sampling techniques on the test set and it also helps in preventing overfitting issue."
   ]
  },
  {
   "cell_type": "markdown",
   "metadata": {},
   "source": [
    "After over-sampling, now let's train the model using Support Vector Machine classifier."
   ]
  },
  {
   "cell_type": "code",
   "execution_count": 57,
   "metadata": {},
   "outputs": [
    {
     "data": {
      "text/plain": [
       "SVC()"
      ]
     },
     "execution_count": 57,
     "metadata": {},
     "output_type": "execute_result"
    }
   ],
   "source": [
    "model_lr_smote = SVC()\n",
    "model_lr_smote.fit(x_train_smote, y_train_smote)"
   ]
  },
  {
   "cell_type": "code",
   "execution_count": 58,
   "metadata": {},
   "outputs": [],
   "source": [
    "y_pred = model_lr_smote.predict(x_test_encode)"
   ]
  },
  {
   "cell_type": "code",
   "execution_count": 59,
   "metadata": {},
   "outputs": [
    {
     "name": "stdout",
     "output_type": "stream",
     "text": [
      "0.746268656716418\n"
     ]
    }
   ],
   "source": [
    "print(accuracy_score(y_pred, y_test_encode))"
   ]
  },
  {
   "cell_type": "code",
   "execution_count": 60,
   "metadata": {},
   "outputs": [
    {
     "name": "stdout",
     "output_type": "stream",
     "text": [
      "              precision    recall  f1-score   support\n",
      "\n",
      "           0       0.88      0.75      0.81      1033\n",
      "           1       0.52      0.73      0.60       374\n",
      "\n",
      "    accuracy                           0.75      1407\n",
      "   macro avg       0.70      0.74      0.71      1407\n",
      "weighted avg       0.79      0.75      0.76      1407\n",
      "\n"
     ]
    }
   ],
   "source": [
    "print(classification_report(y_test_encode, y_pred))"
   ]
  },
  {
   "cell_type": "markdown",
   "metadata": {},
   "source": [
    "- After upscaling, there is not a huge difference overall.\n",
    "- The minority class has a slightly better score than the previous models but not much though, even after upsampling it seems like we need more samples of minority class for the model to perform better.<br>\n",
    "Now let's try other classifiers as well and pick the best one."
   ]
  },
  {
   "cell_type": "code",
   "execution_count": 61,
   "metadata": {},
   "outputs": [
    {
     "data": {
      "text/html": [
       "<style type=\"text/css\">\n",
       "#T_5cba5_row0_col0 {\n",
       "  background-color: #539ecd;\n",
       "  color: #f1f1f1;\n",
       "}\n",
       "#T_5cba5_row0_col1 {\n",
       "  background-color: #8dc1dd;\n",
       "  color: #000000;\n",
       "}\n",
       "#T_5cba5_row0_col2, #T_5cba5_row7_col3 {\n",
       "  background-color: #084387;\n",
       "  color: #f1f1f1;\n",
       "}\n",
       "#T_5cba5_row0_col3 {\n",
       "  background-color: #083979;\n",
       "  color: #f1f1f1;\n",
       "}\n",
       "#T_5cba5_row0_col4 {\n",
       "  background-color: #083d7f;\n",
       "  color: #f1f1f1;\n",
       "}\n",
       "#T_5cba5_row1_col0 {\n",
       "  background-color: #56a0ce;\n",
       "  color: #f1f1f1;\n",
       "}\n",
       "#T_5cba5_row1_col1 {\n",
       "  background-color: #91c3de;\n",
       "  color: #000000;\n",
       "}\n",
       "#T_5cba5_row1_col2, #T_5cba5_row1_col3, #T_5cba5_row1_col4, #T_5cba5_row9_col0, #T_5cba5_row9_col1 {\n",
       "  background-color: #08306b;\n",
       "  color: #f1f1f1;\n",
       "}\n",
       "#T_5cba5_row2_col0, #T_5cba5_row10_col2 {\n",
       "  background-color: #d0e2f2;\n",
       "  color: #000000;\n",
       "}\n",
       "#T_5cba5_row2_col1 {\n",
       "  background-color: #e6f0f9;\n",
       "  color: #000000;\n",
       "}\n",
       "#T_5cba5_row2_col2, #T_5cba5_row2_col3, #T_5cba5_row2_col4, #T_5cba5_row4_col0, #T_5cba5_row4_col1 {\n",
       "  background-color: #f7fbff;\n",
       "  color: #000000;\n",
       "}\n",
       "#T_5cba5_row3_col0 {\n",
       "  background-color: #0f5aa3;\n",
       "  color: #f1f1f1;\n",
       "}\n",
       "#T_5cba5_row3_col1 {\n",
       "  background-color: #0a539e;\n",
       "  color: #f1f1f1;\n",
       "}\n",
       "#T_5cba5_row3_col2 {\n",
       "  background-color: #f0f6fd;\n",
       "  color: #000000;\n",
       "}\n",
       "#T_5cba5_row3_col3 {\n",
       "  background-color: #7db8da;\n",
       "  color: #000000;\n",
       "}\n",
       "#T_5cba5_row3_col4, #T_5cba5_row6_col0 {\n",
       "  background-color: #9fcae1;\n",
       "  color: #000000;\n",
       "}\n",
       "#T_5cba5_row4_col2 {\n",
       "  background-color: #2171b5;\n",
       "  color: #f1f1f1;\n",
       "}\n",
       "#T_5cba5_row4_col3 {\n",
       "  background-color: #68acd5;\n",
       "  color: #f1f1f1;\n",
       "}\n",
       "#T_5cba5_row4_col4 {\n",
       "  background-color: #6dafd7;\n",
       "  color: #f1f1f1;\n",
       "}\n",
       "#T_5cba5_row5_col0 {\n",
       "  background-color: #6caed6;\n",
       "  color: #f1f1f1;\n",
       "}\n",
       "#T_5cba5_row5_col1 {\n",
       "  background-color: #a0cbe2;\n",
       "  color: #000000;\n",
       "}\n",
       "#T_5cba5_row5_col2 {\n",
       "  background-color: #3282be;\n",
       "  color: #f1f1f1;\n",
       "}\n",
       "#T_5cba5_row5_col3 {\n",
       "  background-color: #206fb4;\n",
       "  color: #f1f1f1;\n",
       "}\n",
       "#T_5cba5_row5_col4 {\n",
       "  background-color: #2c7cba;\n",
       "  color: #f1f1f1;\n",
       "}\n",
       "#T_5cba5_row6_col1 {\n",
       "  background-color: #c1d9ed;\n",
       "  color: #000000;\n",
       "}\n",
       "#T_5cba5_row6_col2 {\n",
       "  background-color: #dceaf6;\n",
       "  color: #000000;\n",
       "}\n",
       "#T_5cba5_row6_col3 {\n",
       "  background-color: #c9ddf0;\n",
       "  color: #000000;\n",
       "}\n",
       "#T_5cba5_row6_col4 {\n",
       "  background-color: #d0e1f2;\n",
       "  color: #000000;\n",
       "}\n",
       "#T_5cba5_row7_col0 {\n",
       "  background-color: #08509b;\n",
       "  color: #f1f1f1;\n",
       "}\n",
       "#T_5cba5_row7_col1 {\n",
       "  background-color: #2070b4;\n",
       "  color: #f1f1f1;\n",
       "}\n",
       "#T_5cba5_row7_col2 {\n",
       "  background-color: #549fcd;\n",
       "  color: #f1f1f1;\n",
       "}\n",
       "#T_5cba5_row7_col4 {\n",
       "  background-color: #125ea6;\n",
       "  color: #f1f1f1;\n",
       "}\n",
       "#T_5cba5_row8_col0 {\n",
       "  background-color: #3080bd;\n",
       "  color: #f1f1f1;\n",
       "}\n",
       "#T_5cba5_row8_col1 {\n",
       "  background-color: #60a7d2;\n",
       "  color: #f1f1f1;\n",
       "}\n",
       "#T_5cba5_row8_col2, #T_5cba5_row11_col1 {\n",
       "  background-color: #1966ad;\n",
       "  color: #f1f1f1;\n",
       "}\n",
       "#T_5cba5_row8_col3 {\n",
       "  background-color: #083b7c;\n",
       "  color: #f1f1f1;\n",
       "}\n",
       "#T_5cba5_row8_col4 {\n",
       "  background-color: #084990;\n",
       "  color: #f1f1f1;\n",
       "}\n",
       "#T_5cba5_row9_col2 {\n",
       "  background-color: #bdd7ec;\n",
       "  color: #000000;\n",
       "}\n",
       "#T_5cba5_row9_col3 {\n",
       "  background-color: #1865ac;\n",
       "  color: #f1f1f1;\n",
       "}\n",
       "#T_5cba5_row9_col4 {\n",
       "  background-color: #3a8ac2;\n",
       "  color: #f1f1f1;\n",
       "}\n",
       "#T_5cba5_row10_col0 {\n",
       "  background-color: #1561a9;\n",
       "  color: #f1f1f1;\n",
       "}\n",
       "#T_5cba5_row10_col1 {\n",
       "  background-color: #1d6cb1;\n",
       "  color: #f1f1f1;\n",
       "}\n",
       "#T_5cba5_row10_col3 {\n",
       "  background-color: #4f9bcb;\n",
       "  color: #f1f1f1;\n",
       "}\n",
       "#T_5cba5_row10_col4 {\n",
       "  background-color: #71b1d7;\n",
       "  color: #f1f1f1;\n",
       "}\n",
       "#T_5cba5_row11_col0 {\n",
       "  background-color: #125da6;\n",
       "  color: #f1f1f1;\n",
       "}\n",
       "#T_5cba5_row11_col2 {\n",
       "  background-color: #d2e3f3;\n",
       "  color: #000000;\n",
       "}\n",
       "#T_5cba5_row11_col3 {\n",
       "  background-color: #4e9acb;\n",
       "  color: #f1f1f1;\n",
       "}\n",
       "#T_5cba5_row11_col4 {\n",
       "  background-color: #6fb0d7;\n",
       "  color: #f1f1f1;\n",
       "}\n",
       "</style>\n",
       "<table id=\"T_5cba5_\">\n",
       "  <thead>\n",
       "    <tr>\n",
       "      <th class=\"blank level0\" >&nbsp;</th>\n",
       "      <th class=\"col_heading level0 col0\" >accuracy</th>\n",
       "      <th class=\"col_heading level0 col1\" >precision</th>\n",
       "      <th class=\"col_heading level0 col2\" >recall</th>\n",
       "      <th class=\"col_heading level0 col3\" >f1_score</th>\n",
       "      <th class=\"col_heading level0 col4\" >roc_auc</th>\n",
       "    </tr>\n",
       "    <tr>\n",
       "      <th class=\"index_name level0\" >model</th>\n",
       "      <th class=\"blank col0\" >&nbsp;</th>\n",
       "      <th class=\"blank col1\" >&nbsp;</th>\n",
       "      <th class=\"blank col2\" >&nbsp;</th>\n",
       "      <th class=\"blank col3\" >&nbsp;</th>\n",
       "      <th class=\"blank col4\" >&nbsp;</th>\n",
       "    </tr>\n",
       "  </thead>\n",
       "  <tbody>\n",
       "    <tr>\n",
       "      <th id=\"T_5cba5_level0_row0\" class=\"row_heading level0 row0\" >Logistic Regression</th>\n",
       "      <td id=\"T_5cba5_row0_col0\" class=\"data row0 col0\" >0.753376</td>\n",
       "      <td id=\"T_5cba5_row0_col1\" class=\"data row0 col1\" >0.523643</td>\n",
       "      <td id=\"T_5cba5_row0_col2\" class=\"data row0 col2\" >0.799465</td>\n",
       "      <td id=\"T_5cba5_row0_col3\" class=\"data row0 col3\" >0.632804</td>\n",
       "      <td id=\"T_5cba5_row0_col4\" class=\"data row0 col4\" >0.768077</td>\n",
       "    </tr>\n",
       "    <tr>\n",
       "      <th id=\"T_5cba5_level0_row1\" class=\"row_heading level0 row1\" >Ridge Classifier</th>\n",
       "      <td id=\"T_5cba5_row1_col0\" class=\"data row1 col0\" >0.752665</td>\n",
       "      <td id=\"T_5cba5_row1_col1\" class=\"data row1 col1\" >0.522109</td>\n",
       "      <td id=\"T_5cba5_row1_col2\" class=\"data row1 col2\" >0.820856</td>\n",
       "      <td id=\"T_5cba5_row1_col3\" class=\"data row1 col3\" >0.638254</td>\n",
       "      <td id=\"T_5cba5_row1_col4\" class=\"data row1 col4\" >0.774416</td>\n",
       "    </tr>\n",
       "    <tr>\n",
       "      <th id=\"T_5cba5_level0_row2\" class=\"row_heading level0 row2\" >Decision Tree</th>\n",
       "      <td id=\"T_5cba5_row2_col0\" class=\"data row2 col0\" >0.718550</td>\n",
       "      <td id=\"T_5cba5_row2_col1\" class=\"data row2 col1\" >0.473430</td>\n",
       "      <td id=\"T_5cba5_row2_col2\" class=\"data row2 col2\" >0.524064</td>\n",
       "      <td id=\"T_5cba5_row2_col3\" class=\"data row2 col3\" >0.497462</td>\n",
       "      <td id=\"T_5cba5_row2_col4\" class=\"data row2 col4\" >0.656514</td>\n",
       "    </tr>\n",
       "    <tr>\n",
       "      <th id=\"T_5cba5_level0_row3\" class=\"row_heading level0 row3\" >Random Forest</th>\n",
       "      <td id=\"T_5cba5_row3_col0\" class=\"data row3 col0\" >0.778252</td>\n",
       "      <td id=\"T_5cba5_row3_col1\" class=\"data row3 col1\" >0.591716</td>\n",
       "      <td id=\"T_5cba5_row3_col2\" class=\"data row3 col2\" >0.534759</td>\n",
       "      <td id=\"T_5cba5_row3_col3\" class=\"data row3 col3\" >0.561798</td>\n",
       "      <td id=\"T_5cba5_row3_col4\" class=\"data row3 col4\" >0.700584</td>\n",
       "    </tr>\n",
       "    <tr>\n",
       "      <th id=\"T_5cba5_level0_row4\" class=\"row_heading level0 row4\" >KNN</th>\n",
       "      <td id=\"T_5cba5_row4_col0\" class=\"data row4 col0\" >0.700071</td>\n",
       "      <td id=\"T_5cba5_row4_col1\" class=\"data row4 col1\" >0.460396</td>\n",
       "      <td id=\"T_5cba5_row4_col2\" class=\"data row4 col2\" >0.745989</td>\n",
       "      <td id=\"T_5cba5_row4_col3\" class=\"data row4 col3\" >0.569388</td>\n",
       "      <td id=\"T_5cba5_row4_col4\" class=\"data row4 col4\" >0.714718</td>\n",
       "    </tr>\n",
       "    <tr>\n",
       "      <th id=\"T_5cba5_level0_row5\" class=\"row_heading level0 row5\" >SVC</th>\n",
       "      <td id=\"T_5cba5_row5_col0\" class=\"data row5 col0\" >0.746269</td>\n",
       "      <td id=\"T_5cba5_row5_col1\" class=\"data row5 col1\" >0.516129</td>\n",
       "      <td id=\"T_5cba5_row5_col2\" class=\"data row5 col2\" >0.727273</td>\n",
       "      <td id=\"T_5cba5_row5_col3\" class=\"data row5 col3\" >0.603774</td>\n",
       "      <td id=\"T_5cba5_row5_col4\" class=\"data row5 col4\" >0.740209</td>\n",
       "    </tr>\n",
       "    <tr>\n",
       "      <th id=\"T_5cba5_level0_row6\" class=\"row_heading level0 row6\" >Neural Network</th>\n",
       "      <td id=\"T_5cba5_row6_col0\" class=\"data row6 col0\" >0.734897</td>\n",
       "      <td id=\"T_5cba5_row6_col1\" class=\"data row6 col1\" >0.501188</td>\n",
       "      <td id=\"T_5cba5_row6_col2\" class=\"data row6 col2\" >0.564171</td>\n",
       "      <td id=\"T_5cba5_row6_col3\" class=\"data row6 col3\" >0.530818</td>\n",
       "      <td id=\"T_5cba5_row6_col4\" class=\"data row6 col4\" >0.680440</td>\n",
       "    </tr>\n",
       "    <tr>\n",
       "      <th id=\"T_5cba5_level0_row7\" class=\"row_heading level0 row7\" >Gradient Boosting Classifier</th>\n",
       "      <td id=\"T_5cba5_row7_col0\" class=\"data row7 col0\" >0.781805</td>\n",
       "      <td id=\"T_5cba5_row7_col1\" class=\"data row7 col1\" >0.574279</td>\n",
       "      <td id=\"T_5cba5_row7_col2\" class=\"data row7 col2\" >0.692513</td>\n",
       "      <td id=\"T_5cba5_row7_col3\" class=\"data row7 col3\" >0.627879</td>\n",
       "      <td id=\"T_5cba5_row7_col4\" class=\"data row7 col4\" >0.753323</td>\n",
       "    </tr>\n",
       "    <tr>\n",
       "      <th id=\"T_5cba5_level0_row8\" class=\"row_heading level0 row8\" >AdaBoost Classifier</th>\n",
       "      <td id=\"T_5cba5_row8_col0\" class=\"data row8 col0\" >0.764748</td>\n",
       "      <td id=\"T_5cba5_row8_col1\" class=\"data row8 col1\" >0.540952</td>\n",
       "      <td id=\"T_5cba5_row8_col2\" class=\"data row8 col2\" >0.759358</td>\n",
       "      <td id=\"T_5cba5_row8_col3\" class=\"data row8 col3\" >0.631813</td>\n",
       "      <td id=\"T_5cba5_row8_col4\" class=\"data row8 col4\" >0.763029</td>\n",
       "    </tr>\n",
       "    <tr>\n",
       "      <th id=\"T_5cba5_level0_row9\" class=\"row_heading level0 row9\" >CatBoost Classifier</th>\n",
       "      <td id=\"T_5cba5_row9_col0\" class=\"data row9 col0\" >0.793177</td>\n",
       "      <td id=\"T_5cba5_row9_col1\" class=\"data row9 col1\" >0.611860</td>\n",
       "      <td id=\"T_5cba5_row9_col2\" class=\"data row9 col2\" >0.606952</td>\n",
       "      <td id=\"T_5cba5_row9_col3\" class=\"data row9 col3\" >0.609396</td>\n",
       "      <td id=\"T_5cba5_row9_col4\" class=\"data row9 col4\" >0.733776</td>\n",
       "    </tr>\n",
       "    <tr>\n",
       "      <th id=\"T_5cba5_level0_row10\" class=\"row_heading level0 row10\" >XGBoost</th>\n",
       "      <td id=\"T_5cba5_row10_col0\" class=\"data row10 col0\" >0.775409</td>\n",
       "      <td id=\"T_5cba5_row10_col1\" class=\"data row10 col1\" >0.576720</td>\n",
       "      <td id=\"T_5cba5_row10_col2\" class=\"data row10 col2\" >0.582888</td>\n",
       "      <td id=\"T_5cba5_row10_col3\" class=\"data row10 col3\" >0.579787</td>\n",
       "      <td id=\"T_5cba5_row10_col4\" class=\"data row10 col4\" >0.714000</td>\n",
       "    </tr>\n",
       "    <tr>\n",
       "      <th id=\"T_5cba5_level0_row11\" class=\"row_heading level0 row11\" >LightGBM</th>\n",
       "      <td id=\"T_5cba5_row11_col0\" class=\"data row11 col0\" >0.776830</td>\n",
       "      <td id=\"T_5cba5_row11_col1\" class=\"data row11 col1\" >0.580214</td>\n",
       "      <td id=\"T_5cba5_row11_col2\" class=\"data row11 col2\" >0.580214</td>\n",
       "      <td id=\"T_5cba5_row11_col3\" class=\"data row11 col3\" >0.580214</td>\n",
       "      <td id=\"T_5cba5_row11_col4\" class=\"data row11 col4\" >0.714115</td>\n",
       "    </tr>\n",
       "  </tbody>\n",
       "</table>\n"
      ],
      "text/plain": [
       "<pandas.io.formats.style.Styler at 0x2c292c31eb0>"
      ]
     },
     "metadata": {},
     "output_type": "display_data"
    }
   ],
   "source": [
    "y_pred_list = dict()\n",
    "\n",
    "for name, model in model_list.items():\n",
    "  model.fit(x_train_smote, y_train_smote)\n",
    "  y_pred_list[name] = model.predict(x_test_encode)\n",
    "\n",
    "score_smote = get_score(y_pred_list, y_test_encode)"
   ]
  },
  {
   "cell_type": "code",
   "execution_count": 62,
   "metadata": {},
   "outputs": [
    {
     "name": "stdout",
     "output_type": "stream",
     "text": [
      "Logistic Regression : 0.7533759772565742\n",
      "Ridge Classifier : 0.7526652452025586\n",
      "Decision Tree : 0.7185501066098081\n",
      "Random Forest : 0.7782515991471215\n",
      "KNN : 0.7000710732054015\n",
      "SVC : 0.746268656716418\n",
      "Neural Network : 0.7348969438521677\n",
      "Gradient Boosting Classifier : 0.7818052594171997\n",
      "AdaBoost Classifier : 0.7647476901208244\n",
      "CatBoost Classifier : 0.7931769722814499\n",
      "XGBoost : 0.775408670931059\n",
      "LightGBM : 0.7768301350390903\n"
     ]
    }
   ],
   "source": [
    "for i in y_pred_list:\n",
    "    print(i, ':', accuracy_score(y_pred_list[i], y_test_encode))"
   ]
  },
  {
   "cell_type": "markdown",
   "metadata": {},
   "source": [
    "The above metrics and scores are not quite as convincing but for now, CatBoost Classifier performs the best comparing to other classifiers, so let's pick it as our model and perform hyperparameter tuning."
   ]
  },
  {
   "cell_type": "code",
   "execution_count": 63,
   "metadata": {},
   "outputs": [
    {
     "data": {
      "text/plain": [
       "<catboost.core.CatBoostClassifier at 0x2c292c310d0>"
      ]
     },
     "execution_count": 63,
     "metadata": {},
     "output_type": "execute_result"
    }
   ],
   "source": [
    "model_cb = CatBoostClassifier(random_state=100, verbose=False)\n",
    "model_cb.fit(x_train_smote, y_train_smote)"
   ]
  },
  {
   "cell_type": "code",
   "execution_count": 64,
   "metadata": {},
   "outputs": [
    {
     "name": "stdout",
     "output_type": "stream",
     "text": [
      "0.7931769722814499\n"
     ]
    }
   ],
   "source": [
    "y_pred = model_cb.predict(x_test_encode)\n",
    "acc_cb = accuracy_score(y_test_encode, y_pred)\n",
    "print(acc_cb)"
   ]
  },
  {
   "cell_type": "markdown",
   "metadata": {},
   "source": []
  },
  {
   "cell_type": "markdown",
   "metadata": {},
   "source": [
    "## Hyperparameter Tuning"
   ]
  },
  {
   "cell_type": "code",
   "execution_count": 65,
   "metadata": {},
   "outputs": [],
   "source": [
    "params = {'depth'   : [3, 4, 5, 6, 7, 8, 9, 10],\n",
    "        'learning_rate' : [0.01, 0.02, 0.03, 0.04],\n",
    "        'iterations'    : [10, 20, 30, 40, 50, 60, 70, 80, 90, 100]\n",
    "            }"
   ]
  },
  {
   "cell_type": "code",
   "execution_count": 66,
   "metadata": {},
   "outputs": [
    {
     "name": "stdout",
     "output_type": "stream",
     "text": [
      "0:\tlearn: 0.6671976\ttotal: 34.7ms\tremaining: 3.44s\n",
      "1:\tlearn: 0.6429456\ttotal: 70.6ms\tremaining: 3.46s\n",
      "2:\tlearn: 0.6217921\ttotal: 105ms\tremaining: 3.38s\n",
      "3:\tlearn: 0.6013324\ttotal: 139ms\tremaining: 3.33s\n",
      "4:\tlearn: 0.5845177\ttotal: 174ms\tremaining: 3.3s\n",
      "5:\tlearn: 0.5684492\ttotal: 206ms\tremaining: 3.23s\n",
      "6:\tlearn: 0.5534459\ttotal: 240ms\tremaining: 3.19s\n",
      "7:\tlearn: 0.5395974\ttotal: 276ms\tremaining: 3.17s\n",
      "8:\tlearn: 0.5266586\ttotal: 310ms\tremaining: 3.14s\n",
      "9:\tlearn: 0.5149338\ttotal: 345ms\tremaining: 3.1s\n",
      "10:\tlearn: 0.5039577\ttotal: 381ms\tremaining: 3.08s\n",
      "11:\tlearn: 0.4940842\ttotal: 415ms\tremaining: 3.05s\n",
      "12:\tlearn: 0.4847806\ttotal: 450ms\tremaining: 3.01s\n",
      "13:\tlearn: 0.4779827\ttotal: 484ms\tremaining: 2.97s\n",
      "14:\tlearn: 0.4697827\ttotal: 518ms\tremaining: 2.94s\n",
      "15:\tlearn: 0.4625017\ttotal: 551ms\tremaining: 2.89s\n",
      "16:\tlearn: 0.4557695\ttotal: 582ms\tremaining: 2.84s\n",
      "17:\tlearn: 0.4489890\ttotal: 617ms\tremaining: 2.81s\n",
      "18:\tlearn: 0.4423774\ttotal: 652ms\tremaining: 2.78s\n",
      "19:\tlearn: 0.4356758\ttotal: 687ms\tremaining: 2.75s\n",
      "20:\tlearn: 0.4302662\ttotal: 721ms\tremaining: 2.71s\n",
      "21:\tlearn: 0.4252644\ttotal: 756ms\tremaining: 2.68s\n",
      "22:\tlearn: 0.4205010\ttotal: 791ms\tremaining: 2.65s\n",
      "23:\tlearn: 0.4162576\ttotal: 825ms\tremaining: 2.61s\n",
      "24:\tlearn: 0.4120952\ttotal: 861ms\tremaining: 2.58s\n",
      "25:\tlearn: 0.4076359\ttotal: 894ms\tremaining: 2.54s\n",
      "26:\tlearn: 0.4033996\ttotal: 927ms\tremaining: 2.51s\n",
      "27:\tlearn: 0.3986279\ttotal: 961ms\tremaining: 2.47s\n",
      "28:\tlearn: 0.3947625\ttotal: 993ms\tremaining: 2.43s\n",
      "29:\tlearn: 0.3914131\ttotal: 1.02s\tremaining: 2.39s\n",
      "30:\tlearn: 0.3882520\ttotal: 1.06s\tremaining: 2.36s\n",
      "31:\tlearn: 0.3853311\ttotal: 1.09s\tremaining: 2.33s\n",
      "32:\tlearn: 0.3822996\ttotal: 1.13s\tremaining: 2.29s\n",
      "33:\tlearn: 0.3790069\ttotal: 1.17s\tremaining: 2.26s\n",
      "34:\tlearn: 0.3752422\ttotal: 1.2s\tremaining: 2.23s\n",
      "35:\tlearn: 0.3717691\ttotal: 1.24s\tremaining: 2.2s\n",
      "36:\tlearn: 0.3684838\ttotal: 1.27s\tremaining: 2.16s\n",
      "37:\tlearn: 0.3656799\ttotal: 1.3s\tremaining: 2.13s\n",
      "38:\tlearn: 0.3630010\ttotal: 1.34s\tremaining: 2.09s\n",
      "39:\tlearn: 0.3602697\ttotal: 1.37s\tremaining: 2.06s\n",
      "40:\tlearn: 0.3578282\ttotal: 1.41s\tremaining: 2.02s\n",
      "41:\tlearn: 0.3556874\ttotal: 1.44s\tremaining: 1.99s\n",
      "42:\tlearn: 0.3534343\ttotal: 1.48s\tremaining: 1.96s\n",
      "43:\tlearn: 0.3512056\ttotal: 1.51s\tremaining: 1.92s\n",
      "44:\tlearn: 0.3488108\ttotal: 1.54s\tremaining: 1.88s\n",
      "45:\tlearn: 0.3469028\ttotal: 1.57s\tremaining: 1.85s\n",
      "46:\tlearn: 0.3450265\ttotal: 1.61s\tremaining: 1.81s\n",
      "47:\tlearn: 0.3431014\ttotal: 1.64s\tremaining: 1.78s\n",
      "48:\tlearn: 0.3416930\ttotal: 1.68s\tremaining: 1.74s\n",
      "49:\tlearn: 0.3404429\ttotal: 1.71s\tremaining: 1.71s\n",
      "50:\tlearn: 0.3384618\ttotal: 1.74s\tremaining: 1.67s\n",
      "51:\tlearn: 0.3370167\ttotal: 1.78s\tremaining: 1.64s\n",
      "52:\tlearn: 0.3348017\ttotal: 1.81s\tremaining: 1.6s\n",
      "53:\tlearn: 0.3331348\ttotal: 1.85s\tremaining: 1.57s\n",
      "54:\tlearn: 0.3313881\ttotal: 1.88s\tremaining: 1.54s\n",
      "55:\tlearn: 0.3294595\ttotal: 1.91s\tremaining: 1.5s\n",
      "56:\tlearn: 0.3281115\ttotal: 1.95s\tremaining: 1.47s\n",
      "57:\tlearn: 0.3266746\ttotal: 1.98s\tremaining: 1.43s\n",
      "58:\tlearn: 0.3251249\ttotal: 2.01s\tremaining: 1.4s\n",
      "59:\tlearn: 0.3237480\ttotal: 2.05s\tremaining: 1.36s\n",
      "60:\tlearn: 0.3224243\ttotal: 2.08s\tremaining: 1.33s\n",
      "61:\tlearn: 0.3213126\ttotal: 2.11s\tremaining: 1.29s\n",
      "62:\tlearn: 0.3204969\ttotal: 2.14s\tremaining: 1.26s\n",
      "63:\tlearn: 0.3190304\ttotal: 2.17s\tremaining: 1.22s\n",
      "64:\tlearn: 0.3178330\ttotal: 2.21s\tremaining: 1.19s\n",
      "65:\tlearn: 0.3159431\ttotal: 2.24s\tremaining: 1.15s\n",
      "66:\tlearn: 0.3148900\ttotal: 2.27s\tremaining: 1.12s\n",
      "67:\tlearn: 0.3133720\ttotal: 2.3s\tremaining: 1.08s\n",
      "68:\tlearn: 0.3125550\ttotal: 2.34s\tremaining: 1.05s\n",
      "69:\tlearn: 0.3114469\ttotal: 2.37s\tremaining: 1.01s\n",
      "70:\tlearn: 0.3105769\ttotal: 2.4s\tremaining: 982ms\n",
      "71:\tlearn: 0.3092972\ttotal: 2.44s\tremaining: 948ms\n",
      "72:\tlearn: 0.3082884\ttotal: 2.47s\tremaining: 914ms\n",
      "73:\tlearn: 0.3071819\ttotal: 2.5s\tremaining: 880ms\n",
      "74:\tlearn: 0.3060616\ttotal: 2.54s\tremaining: 846ms\n",
      "75:\tlearn: 0.3048019\ttotal: 2.57s\tremaining: 811ms\n",
      "76:\tlearn: 0.3037173\ttotal: 2.6s\tremaining: 778ms\n",
      "77:\tlearn: 0.3023083\ttotal: 2.64s\tremaining: 744ms\n",
      "78:\tlearn: 0.3014489\ttotal: 2.67s\tremaining: 711ms\n",
      "79:\tlearn: 0.3002462\ttotal: 2.71s\tremaining: 677ms\n",
      "80:\tlearn: 0.2994834\ttotal: 2.74s\tremaining: 643ms\n",
      "81:\tlearn: 0.2978230\ttotal: 2.77s\tremaining: 609ms\n",
      "82:\tlearn: 0.2964016\ttotal: 2.81s\tremaining: 575ms\n",
      "83:\tlearn: 0.2955177\ttotal: 2.84s\tremaining: 541ms\n",
      "84:\tlearn: 0.2945381\ttotal: 2.87s\tremaining: 507ms\n",
      "85:\tlearn: 0.2934609\ttotal: 2.9s\tremaining: 473ms\n",
      "86:\tlearn: 0.2922780\ttotal: 2.94s\tremaining: 439ms\n",
      "87:\tlearn: 0.2914457\ttotal: 2.97s\tremaining: 405ms\n",
      "88:\tlearn: 0.2902405\ttotal: 3s\tremaining: 371ms\n",
      "89:\tlearn: 0.2896212\ttotal: 3.04s\tremaining: 338ms\n",
      "90:\tlearn: 0.2887257\ttotal: 3.07s\tremaining: 304ms\n",
      "91:\tlearn: 0.2879698\ttotal: 3.11s\tremaining: 270ms\n",
      "92:\tlearn: 0.2872008\ttotal: 3.14s\tremaining: 237ms\n",
      "93:\tlearn: 0.2858954\ttotal: 3.18s\tremaining: 203ms\n",
      "94:\tlearn: 0.2847301\ttotal: 3.21s\tremaining: 169ms\n",
      "95:\tlearn: 0.2839801\ttotal: 3.25s\tremaining: 135ms\n",
      "96:\tlearn: 0.2831331\ttotal: 3.28s\tremaining: 101ms\n",
      "97:\tlearn: 0.2823567\ttotal: 3.31s\tremaining: 67.6ms\n",
      "98:\tlearn: 0.2812755\ttotal: 3.35s\tremaining: 33.8ms\n",
      "99:\tlearn: 0.2809376\ttotal: 3.38s\tremaining: 0us\n"
     ]
    },
    {
     "data": {
      "text/plain": [
       "GridSearchCV(cv=5,\n",
       "             estimator=<catboost.core.CatBoostClassifier object at 0x000002C292D40BB0>,\n",
       "             n_jobs=-1,\n",
       "             param_grid={'depth': [3, 4, 5, 6, 7, 8, 9, 10],\n",
       "                         'iterations': [10, 20, 30, 40, 50, 60, 70, 80, 90,\n",
       "                                        100],\n",
       "                         'learning_rate': [0.01, 0.02, 0.03, 0.04]},\n",
       "             scoring='accuracy', verbose=False)"
      ]
     },
     "execution_count": 66,
     "metadata": {},
     "output_type": "execute_result"
    }
   ],
   "source": [
    "cbc = CatBoostClassifier()\n",
    "cbc_grid = GridSearchCV(estimator = cbc, param_grid = params, cv = 5, n_jobs = -1, scoring = 'accuracy', verbose = False)\n",
    "cbc_grid.fit(x_train_smote, y_train_smote)"
   ]
  },
  {
   "cell_type": "code",
   "execution_count": 67,
   "metadata": {},
   "outputs": [
    {
     "name": "stdout",
     "output_type": "stream",
     "text": [
      "After running Grid Search;\n",
      "The Best Parameters are: {'depth': 10, 'iterations': 100, 'learning_rate': 0.04}\n",
      "The Best Score is: 0.8430992736077482\n"
     ]
    }
   ],
   "source": [
    "print('After running Grid Search;')\n",
    "print('The Best Parameters are:', cbc_grid.best_params_)\n",
    "print('The Best Score is:', cbc_grid.best_score_)"
   ]
  },
  {
   "cell_type": "markdown",
   "metadata": {},
   "source": [
    "The Accuracy score is slightly better after Hyperparameter Tuning, but not much. Even an increase of 0.5% in accuracy after Hyperparameter Tuning is quite good. Keeping in mind the imbalance of the dataset, more or less the model seems to be good fit. But before deployment, let's perform Principal Component Analysis (PCA) which will help in simplifying the complexity in high-dimensional data while retaining trends and patterns. It does this by transforming the data into fewer dimensions, which acts as summaries of features."
   ]
  },
  {
   "cell_type": "code",
   "execution_count": 68,
   "metadata": {},
   "outputs": [
    {
     "data": {
      "text/plain": [
       "<catboost.core.CatBoostClassifier at 0x2c292c31850>"
      ]
     },
     "execution_count": 68,
     "metadata": {},
     "output_type": "execute_result"
    }
   ],
   "source": [
    "model_cbc = CatBoostClassifier(iterations = 100, learning_rate = 0.04, max_depth = 10, verbose = False)\n",
    "model_cbc.fit(x_train_smote, y_train_smote)"
   ]
  },
  {
   "cell_type": "markdown",
   "metadata": {},
   "source": [
    "## Performing PCA"
   ]
  },
  {
   "cell_type": "code",
   "execution_count": 69,
   "metadata": {},
   "outputs": [],
   "source": [
    "pca = PCA()\n",
    "x_train_pca = pca.fit_transform(x_train_smote)\n",
    "x_test_pca = pca.transform(x_test_encode)"
   ]
  },
  {
   "cell_type": "code",
   "execution_count": 70,
   "metadata": {},
   "outputs": [
    {
     "data": {
      "text/plain": [
       "<catboost.core.CatBoostClassifier at 0x2c292c31d30>"
      ]
     },
     "execution_count": 70,
     "metadata": {},
     "output_type": "execute_result"
    }
   ],
   "source": [
    "model_cbc_pca = CatBoostClassifier(iterations = 100, learning_rate = 0.04, max_depth = 10, verbose = False)\n",
    "model_cbc_pca.fit(x_train_pca, y_train_smote)"
   ]
  },
  {
   "cell_type": "code",
   "execution_count": 71,
   "metadata": {},
   "outputs": [],
   "source": [
    "y_pred = model_cbc_pca.predict(x_train_pca)"
   ]
  },
  {
   "cell_type": "code",
   "execution_count": 72,
   "metadata": {},
   "outputs": [
    {
     "name": "stdout",
     "output_type": "stream",
     "text": [
      "0.7661691542288557\n"
     ]
    }
   ],
   "source": [
    "model_score_pca = model_cbc_pca.score(x_test_pca, y_test_encode)\n",
    "print(model_score_pca)"
   ]
  },
  {
   "cell_type": "markdown",
   "metadata": {},
   "source": [
    "Even after performing Principal Component Analysis (PCA) to reduce the noise and dimensionality, we couldn't see any better results.<br>\n",
    "So, let's finalize the model created by CatBoost Classifier as it is the best performer."
   ]
  },
  {
   "cell_type": "markdown",
   "metadata": {},
   "source": [
    "## Pickle the model"
   ]
  },
  {
   "cell_type": "code",
   "execution_count": 73,
   "metadata": {},
   "outputs": [],
   "source": [
    "import pickle\n",
    "\n",
    "with open('model.sav', 'wb') as f:\n",
    "    pickle.dump(model_cbc, f)"
   ]
  },
  {
   "cell_type": "code",
   "execution_count": 74,
   "metadata": {},
   "outputs": [],
   "source": [
    "with open('model.sav', 'rb') as f:\n",
    "    m = pickle.load(f)"
   ]
  }
 ],
 "metadata": {
  "kernelspec": {
   "display_name": "Python 3",
   "language": "python",
   "name": "python3"
  },
  "language_info": {
   "codemirror_mode": {
    "name": "ipython",
    "version": 3
   },
   "file_extension": ".py",
   "mimetype": "text/x-python",
   "name": "python",
   "nbconvert_exporter": "python",
   "pygments_lexer": "ipython3",
   "version": "3.8.8"
  },
  "vscode": {
   "interpreter": {
    "hash": "ca6c87fcf33b17785a7fb9df40409f6d10b55c3ee45d28dce4768af80ffdc036"
   }
  }
 },
 "nbformat": 4,
 "nbformat_minor": 2
}
